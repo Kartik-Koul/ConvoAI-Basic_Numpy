{
  "nbformat": 4,
  "nbformat_minor": 0,
  "metadata": {
    "colab": {
      "provenance": [],
      "authorship_tag": "ABX9TyNDL8AkinWd6UHgOh6cq+aO",
      "include_colab_link": true
    },
    "kernelspec": {
      "name": "python3",
      "display_name": "Python 3"
    },
    "language_info": {
      "name": "python"
    }
  },
  "cells": [
    {
      "cell_type": "markdown",
      "metadata": {
        "id": "view-in-github",
        "colab_type": "text"
      },
      "source": [
        "<a href=\"https://colab.research.google.com/github/Kartik-Koul/ConvoAI-Basic_Numpy/blob/main/Assignment_1.ipynb\" target=\"_parent\"><img src=\"https://colab.research.google.com/assets/colab-badge.svg\" alt=\"Open In Colab\"/></a>"
      ]
    },
    {
      "cell_type": "markdown",
      "source": [
        "**Q1.** (a) Reverse the NumPy array: arr = np.array([1, 2, 3, 6, 4, 5])"
      ],
      "metadata": {
        "id": "lX8HWdzSxg3A"
      }
    },
    {
      "cell_type": "code",
      "source": [
        "import numpy as np\n",
        "\n",
        "arr = np.array([1, 2, 3, 6, 4, 5])\n",
        "rev = np.flip(arr)\n",
        "\n",
        "print(\"Original array : \", str(arr))\n",
        "print(\"Reversed array : \", str(rev))"
      ],
      "metadata": {
        "colab": {
          "base_uri": "https://localhost:8080/"
        },
        "id": "5wwCDbCmxrhA",
        "outputId": "83e0df26-3c0a-49d9-e7fa-9f4984a5ac93"
      },
      "execution_count": null,
      "outputs": [
        {
          "output_type": "stream",
          "name": "stdout",
          "text": [
            "Original array :  [1 2 3 6 4 5]\n",
            "Reversed array :  [5 4 6 3 2 1]\n"
          ]
        }
      ]
    },
    {
      "cell_type": "markdown",
      "source": [
        "**Q1.** (b) Flatten the NumPy arr: array1 = np.array([[1, 2, 3], [2, 4, 5], [1, 2, 3]]) using any two\n",
        "NumPy in-built methods\n"
      ],
      "metadata": {
        "id": "f9FequHH3Pse"
      }
    },
    {
      "cell_type": "code",
      "source": [
        "import numpy as np\n",
        "\n",
        "array1 = np.array([[1,2,3],[2,4,5],[1,2,3]])\n",
        "\n",
        "array2 = array1.flatten() #Flattening using the flatten() function\n",
        "array3 = array1.ravel() #Flattening using the ravel() function\n",
        "\n",
        "print(\"Original array : \",(array1))\n",
        "print(\"Result using flatten() : \", str(array2))\n",
        "print(\"Result using ravel() : \", str(array3))\n",
        "\n"
      ],
      "metadata": {
        "colab": {
          "base_uri": "https://localhost:8080/"
        },
        "id": "XrQHT5T83cdO",
        "outputId": "3d2aac57-8f7e-4730-8fad-ee7c75d0d0fe"
      },
      "execution_count": null,
      "outputs": [
        {
          "output_type": "stream",
          "name": "stdout",
          "text": [
            "Original array :  [[1 2 3]\n",
            " [2 4 5]\n",
            " [1 2 3]]\n",
            "Result using flatten() :  [1 2 3 2 4 5 1 2 3]\n",
            "Result using ravel() :  [1 2 3 2 4 5 1 2 3]\n"
          ]
        }
      ]
    },
    {
      "cell_type": "markdown",
      "source": [
        "**Q1.** (c) Compare the following numpy arrays:\n",
        "\n",
        "arr1 = np.array([[1, 2], [3, 4]])\n",
        "\n",
        "arr2 = np.array([[1, 2], [3, 4]])"
      ],
      "metadata": {
        "id": "KeFoTnHV5EIu"
      }
    },
    {
      "cell_type": "code",
      "source": [
        "import numpy as np\n",
        "arr1 = np.array([[1,2],[3,4]])\n",
        "arr2 = np.array([[1,2],[3,4]])\n",
        "\n",
        "print(np.equal(arr1,arr2)) #Comparing individual elements\n",
        "\n",
        "is_equal = arr1 == arr2\n",
        "print(is_equal.all()) #Comparing entire arrays at once"
      ],
      "metadata": {
        "colab": {
          "base_uri": "https://localhost:8080/"
        },
        "id": "ruPvAqbU5MbT",
        "outputId": "1dd3cbcb-81bb-4d6b-bd88-fffcaa6623e5"
      },
      "execution_count": null,
      "outputs": [
        {
          "output_type": "stream",
          "name": "stdout",
          "text": [
            "[[ True  True]\n",
            " [ True  True]]\n",
            "True\n"
          ]
        }
      ]
    },
    {
      "cell_type": "markdown",
      "source": [
        "**Q1.** (d) Find the most frequent value and their indice(s) in the following arrays:\n",
        "\n",
        "i. x = np.array([1,2,3,4,5,1,2,1,1,1])\n",
        "\n",
        "ii. y = np.array([1, 1, 1, 2, 3, 4, 2, 4, 3, 3, ])"
      ],
      "metadata": {
        "id": "7o2ySOF47UKC"
      }
    },
    {
      "cell_type": "code",
      "source": [
        "import numpy as np\n",
        "\n",
        "def return_modal_values(arr):\n",
        "  arr_values, arr_counts = np.unique(arr, return_counts = True)\n",
        "  mode_indices = np.argwhere(arr_counts == np.max(arr_counts))\n",
        "  mode_values = arr_values[mode_indices].flatten().tolist()\n",
        "  return mode_values\n",
        "\n",
        "def print_modal_info(arr):\n",
        "  arr_modes = return_modal_values(arr)\n",
        "  print(\"Mode(s) for the given array are : \",arr_modes)\n",
        "  print(\"Indices where the mode(s) is/are present respectively: \")\n",
        "  for i in arr_modes:\n",
        "    arr_modal_indices = np.where(arr == i)\n",
        "    print(arr_modal_indices[0])\n",
        "\n",
        "x = np.array([1,2,3,4,5,1,2,1,1,1])\n",
        "y = np.array([1,1,1,2,3,4,2,4,3,3])\n",
        "\n",
        "print(\"For array x:\")\n",
        "print_modal_info(x)\n",
        "print()\n",
        "print(\"For array y:\")\n",
        "print_modal_info(y)\n",
        "#print(mode_values)\n",
        "#print(np.count_nonzero(mode_values))\n"
      ],
      "metadata": {
        "id": "kDbXUo6c7cO-"
      },
      "execution_count": null,
      "outputs": []
    },
    {
      "cell_type": "markdown",
      "source": [
        "**Q1.** (e) For the array gfg = np.matrix('[4, 1, 9; 12, 3, 1; 4, 5, 6]'), find\n",
        "\n",
        "i. Sum of all elements\n",
        "\n",
        "ii. Sum of all elements row-wise\n",
        "\n",
        "iii. Sum of all elements column-wise\n"
      ],
      "metadata": {
        "id": "wQXxQUVmJ-2B"
      }
    },
    {
      "cell_type": "code",
      "source": [
        "import numpy as np\n",
        "\n",
        "gfg = np.matrix('[4, 1, 9; 12, 3, 1; 4, 5, 6]')\n",
        "\n",
        "#SUM OF ALL ELEMENTS\n",
        "print(np.sum(gfg))\n",
        "print()\n",
        "#SUM OF ELEMENTS ROW WISE\n",
        "print(np.sum(gfg, axis=1))\n",
        "print()\n",
        "#SUM OF ELEMENTS COLUMN WISE\n",
        "print(np.sum(gfg, axis=0))"
      ],
      "metadata": {
        "id": "szm8Ua16KJPy",
        "colab": {
          "base_uri": "https://localhost:8080/"
        },
        "outputId": "05d4683b-8342-4e20-8b1e-348751eacee1"
      },
      "execution_count": null,
      "outputs": [
        {
          "output_type": "stream",
          "name": "stdout",
          "text": [
            "45\n",
            "\n",
            "[[14]\n",
            " [16]\n",
            " [15]]\n",
            "\n",
            "[[20  9 16]]\n"
          ]
        }
      ]
    },
    {
      "cell_type": "markdown",
      "source": [
        "**Q1.** (f) For the matrix: n_array = np.array([[55, 25, 15],[30, 44, 2],[11, 45, 77]]), find\n",
        "\n",
        "i. Sum of diagonal elements\n",
        "\n",
        "ii. Eigen values of matrix\n",
        "\n",
        "iii. Eigen vectors of matrix\n",
        "\n",
        "iv. Inverse of matrix\n",
        "\n",
        "v. Determinant of matrix"
      ],
      "metadata": {
        "id": "lkBhp72bsQet"
      }
    },
    {
      "cell_type": "code",
      "source": [
        "import numpy as np\n",
        "from numpy import linalg as la\n",
        "n_array = np.array([[55, 25, 15],[30, 44, 2],[11, 45, 77]])\n",
        "#SUM OF DIAGONAL ELEMENTS\n",
        "print(f\"Sum of diagonal elements = {np.trace(n_array)}\")\n",
        "#EIGEN VALUES AND VECTORS OF MATRIX\n",
        "eigenvalues, eigenvectors = la.eig(n_array)\n",
        "print()\n",
        "print(\"Eigen values = \",eigenvalues)\n",
        "print(\"Eigen vectors = \",eigenvectors)\n",
        "#INVERSE OF MATRIX\n",
        "print()\n",
        "print(\"Inverse of matrix: \")\n",
        "print(la.inv(n_array))\n",
        "#DETERMINANT OF MATRIX\n",
        "print()\n",
        "print(\"Determinant of matrix = \",la.det(n_array))"
      ],
      "metadata": {
        "id": "g9oBaWkfsgyX",
        "colab": {
          "base_uri": "https://localhost:8080/"
        },
        "outputId": "fde443c3-53ba-43aa-f216-2ee1d9e4882d"
      },
      "execution_count": null,
      "outputs": [
        {
          "output_type": "stream",
          "name": "stdout",
          "text": [
            "Sum of diagonal elements = 176\n",
            "\n",
            "Eigen values =  [98.16835147 28.097044   49.73460452]\n",
            "Eigen vectors =  [[ 0.4574917   0.34637121 -0.15017693]\n",
            " [ 0.28447814 -0.72784061 -0.4852124 ]\n",
            " [ 0.84248058  0.59184038  0.8614034 ]]\n",
            "\n",
            "Inverse of matrix: \n",
            "[[ 0.02404141 -0.00911212 -0.00444671]\n",
            " [-0.01667882  0.02966905  0.0024785 ]\n",
            " [ 0.00631287 -0.01603732  0.01217379]]\n",
            "\n",
            "Determinant of matrix =  137180.0000000001\n"
          ]
        }
      ]
    },
    {
      "cell_type": "markdown",
      "source": [
        "**Q1.** (g) Multiply the following matrices and also find covariance between matrices using NumPy:\n",
        "\n",
        "i. p = [[1, 2], [2, 3]]\n",
        "\n",
        "q = [[4, 5], [6, 7]]\n",
        "\n",
        "ii. p = [[1, 2], [2, 3], [4, 5]]\n",
        "\n",
        "q = [[4, 5, 1], [6, 7, 2]]"
      ],
      "metadata": {
        "id": "NxUOa8a4wjmu"
      }
    },
    {
      "cell_type": "code",
      "source": [
        "import numpy as np"
      ],
      "metadata": {
        "id": "-VhaL-AVwvm-"
      },
      "execution_count": null,
      "outputs": []
    },
    {
      "cell_type": "code",
      "source": [
        "p = [[1, 2], [2, 3]]\n",
        "q = [[4, 5], [6, 7]]\n",
        "\n",
        "p_arr = np.matrix(p)\n",
        "q_arr = np.matrix(q)\n",
        "# MULTIPLICATION\n",
        "print(np.matmul(p_arr,q_arr))\n",
        "# FINDING CO-VARIANCE\n",
        "print(np.cov(p_arr,q_arr))"
      ],
      "metadata": {
        "colab": {
          "base_uri": "https://localhost:8080/"
        },
        "id": "o3i6kPxzyjQ4",
        "outputId": "7e00a3fe-6bdf-4ba9-d05f-099ef7711256"
      },
      "execution_count": null,
      "outputs": [
        {
          "output_type": "stream",
          "name": "stdout",
          "text": [
            "[[16 19]\n",
            " [26 31]]\n",
            "[[0.5 0.5 0.5 0.5]\n",
            " [0.5 0.5 0.5 0.5]\n",
            " [0.5 0.5 0.5 0.5]\n",
            " [0.5 0.5 0.5 0.5]]\n"
          ]
        }
      ]
    },
    {
      "cell_type": "code",
      "source": [
        "p = [[1, 2], [2, 3], [4, 5]]\n",
        "q = [[4, 5, 1], [6, 7, 2]]\n",
        "\n",
        "p_arr = np.matrix(p)\n",
        "q_arr = np.matrix(q)\n",
        "# MULTIPLICATION\n",
        "print(np.matmul(p_arr,q_arr))\n",
        "# FINDING COVARIANCE\n",
        "print(np.cov(p_arr,q_arr))"
      ],
      "metadata": {
        "id": "9O9Un_yfygeS"
      },
      "execution_count": null,
      "outputs": []
    },
    {
      "cell_type": "markdown",
      "source": [
        "**Q1.** (h) For the matrices: x = np.array([[2, 3, 4], [3, 2, 9]]); y = np.array([[1, 5, 0], [5, 10, 3]]),\n",
        "find inner, outer and cartesian product?"
      ],
      "metadata": {
        "id": "SwZ3pq4By6eC"
      }
    },
    {
      "cell_type": "code",
      "source": [
        "import numpy as np\n",
        "import itertools as it\n",
        "\n",
        "x = np.array([[2,3,4],[3,2,9]])\n",
        "y = np. array([[1,5,0],[5,10,3]])\n",
        "\n",
        "print(\"Inner product = \",np.inner(x,y))\n",
        "print()\n",
        "print(\"Outer product = \",np.outer(x,y))\n",
        "print()\n",
        "cartprod = np.array(list(it.product(x,y)))\n",
        "print(\"Cartesian product = \")\n",
        "print(cartprod)"
      ],
      "metadata": {
        "colab": {
          "base_uri": "https://localhost:8080/"
        },
        "id": "XOCEinLMzB2n",
        "outputId": "d382a4c2-2bbe-4886-af0e-c7c7d49f82a5"
      },
      "execution_count": null,
      "outputs": [
        {
          "output_type": "stream",
          "name": "stdout",
          "text": [
            "Inner product =  [[17 52]\n",
            " [13 62]]\n",
            "\n",
            "Outer product =  [[ 2 10  0 10 20  6]\n",
            " [ 3 15  0 15 30  9]\n",
            " [ 4 20  0 20 40 12]\n",
            " [ 3 15  0 15 30  9]\n",
            " [ 2 10  0 10 20  6]\n",
            " [ 9 45  0 45 90 27]]\n",
            "\n",
            "[[[ 2  3  4]\n",
            "  [ 1  5  0]]\n",
            "\n",
            " [[ 2  3  4]\n",
            "  [ 5 10  3]]\n",
            "\n",
            " [[ 3  2  9]\n",
            "  [ 1  5  0]]\n",
            "\n",
            " [[ 3  2  9]\n",
            "  [ 5 10  3]]]\n"
          ]
        }
      ]
    },
    {
      "cell_type": "markdown",
      "source": [
        "**Q2.** (a) For the array: array = np.array([[1, -2, 3],[-4, 5, -6]])\n",
        "\n",
        "i. Find element-wise absolute value\n",
        "\n",
        "ii. Find the 25th, 50th, and 75th percentile of flattened array, for each column, for each\n",
        "row.\n",
        "\n",
        "iii. Mean, Median and Standard Deviation of flattened array, of each column, and\n",
        "each row."
      ],
      "metadata": {
        "id": "un7jdjhR1oD9"
      }
    },
    {
      "cell_type": "code",
      "source": [
        "import numpy as np\n",
        "\n",
        "array = np.array([[1,-2,3],[-4,5,-6]])"
      ],
      "metadata": {
        "id": "kwqoyatU16XI"
      },
      "execution_count": null,
      "outputs": []
    },
    {
      "cell_type": "code",
      "source": [
        "print(\"Original array : \")\n",
        "print(array)\n",
        "print(\"Element-wise absolute values : \")\n",
        "print(np.absolute(array))"
      ],
      "metadata": {
        "id": "GP6Md4-t21Xc"
      },
      "execution_count": null,
      "outputs": []
    },
    {
      "cell_type": "code",
      "source": [
        "#DATA VALUES OF FLATTENED ARRAY\n",
        "array_1 = array.flatten()\n",
        "per1 = np.percentile(array_1,25)\n",
        "per2 = np.percentile(array_1,50)\n",
        "per3 = np.percentile(array_1,75)\n",
        "print(\"25th percentile = \",per1)\n",
        "print(\"50th percentile = \",per2)\n",
        "print(\"75th percentile = \",per3)\n",
        "print(\"Mean  = \",np.mean(array_1))\n",
        "print(\"Median = \",np.median(array_1))\n",
        "print(\"Standard Deviation = \",np.std(array_1))"
      ],
      "metadata": {
        "colab": {
          "base_uri": "https://localhost:8080/"
        },
        "id": "-QzC36ec26tj",
        "outputId": "a6dc4e5d-e9dd-4c27-8665-6f2a9c247be6"
      },
      "execution_count": null,
      "outputs": [
        {
          "output_type": "stream",
          "name": "stdout",
          "text": [
            "25th percentile =  -3.5\n",
            "50th percentile =  -0.5\n",
            "75th percentile =  2.5\n",
            "Mean  =  -0.5\n",
            "Median =  -0.5\n",
            "Standard Deviation =  3.8622100754188224\n"
          ]
        }
      ]
    },
    {
      "cell_type": "code",
      "source": [
        "#DATA VALUES OF EACH ROW\n",
        "i = 1\n",
        "for i in array:\n",
        "  print(f\"25th percentile of row {i} is {np.percentile(i,25)}\")\n",
        "  print(f\"50th percentile of row {i} is {np.percentile(i,50)}\")\n",
        "  print(f\"75th percentile of row {i} is {np.percentile(i,75)}\")\n",
        "  print(f\"Mean of row {i} is {np.mean(i)}\")\n",
        "  print(f\"Median of row {i} is {np.median(i)}\")\n",
        "  print(f\"Standard Deviation of row {i} is {np.std(i)}\")\n",
        "  print()\n",
        "  i = i + 1"
      ],
      "metadata": {
        "colab": {
          "base_uri": "https://localhost:8080/"
        },
        "id": "33uiWib33ZET",
        "outputId": "af0ae819-7a0b-40a6-f225-4ba40fc0096c"
      },
      "execution_count": null,
      "outputs": [
        {
          "output_type": "stream",
          "name": "stdout",
          "text": [
            "25th percentile of row [ 1 -2  3] is -0.5\n",
            "50th percentile of row [ 1 -2  3] is 1.0\n",
            "75th percentile of row [ 1 -2  3] is 2.0\n",
            "Mean of row [ 1 -2  3] is 0.6666666666666666\n",
            "Median of row [ 1 -2  3] is 1.0\n",
            "Standard Deviation of row [ 1 -2  3] is 2.0548046676563256\n",
            "\n",
            "25th percentile of row [-4  5 -6] is -5.0\n",
            "50th percentile of row [-4  5 -6] is -4.0\n",
            "75th percentile of row [-4  5 -6] is 0.5\n",
            "Mean of row [-4  5 -6] is -1.6666666666666667\n",
            "Median of row [-4  5 -6] is -4.0\n",
            "Standard Deviation of row [-4  5 -6] is 4.784233364802441\n",
            "\n"
          ]
        }
      ]
    },
    {
      "cell_type": "code",
      "source": [
        "#DATA VALUES OF EACH COLUMN\n",
        "i = 1\n",
        "array2 = np.transpose(array)\n",
        "for i in array2:\n",
        "  print(f\"25th percentile of column {i} is {np.percentile(i,25)}\")\n",
        "  print(f\"50th percentile of column {i} is {np.percentile(i,50)}\")\n",
        "  print(f\"75th percentile of column {i} is {np.percentile(i,75)}\")\n",
        "  print(f\"Mean of column {i} is {np.mean(i)}\")\n",
        "  print(f\"Median of column {i} is {np.median(i)}\")\n",
        "  print(f\"Standard Deviation of column {i} is {np.std(i)}\")\n",
        "  print()\n",
        "  i = i + 1"
      ],
      "metadata": {
        "colab": {
          "base_uri": "https://localhost:8080/"
        },
        "id": "kCrHGgw64Qkm",
        "outputId": "4cefc5f4-4e18-4151-9722-f84f24c05f1c"
      },
      "execution_count": null,
      "outputs": [
        {
          "output_type": "stream",
          "name": "stdout",
          "text": [
            "25th percentile of column [ 1 -4] is -2.75\n",
            "50th percentile of column [ 1 -4] is -1.5\n",
            "75th percentile of column [ 1 -4] is -0.25\n",
            "Mean of column [ 1 -4] is -1.5\n",
            "Median of column [ 1 -4] is -1.5\n",
            "Standard Deviation of column [ 1 -4] is 2.5\n",
            "\n",
            "25th percentile of column [-2  5] is -0.25\n",
            "50th percentile of column [-2  5] is 1.5\n",
            "75th percentile of column [-2  5] is 3.25\n",
            "Mean of column [-2  5] is 1.5\n",
            "Median of column [-2  5] is 1.5\n",
            "Standard Deviation of column [-2  5] is 3.5\n",
            "\n",
            "25th percentile of column [ 3 -6] is -3.75\n",
            "50th percentile of column [ 3 -6] is -1.5\n",
            "75th percentile of column [ 3 -6] is 0.75\n",
            "Mean of column [ 3 -6] is -1.5\n",
            "Median of column [ 3 -6] is -1.5\n",
            "Standard Deviation of column [ 3 -6] is 4.5\n",
            "\n"
          ]
        }
      ]
    },
    {
      "cell_type": "markdown",
      "source": [
        "**Q2.** (b) For the array: a = np.array([-1.8, -1.6, -0.5, 0.5,1.6, 1.8, 3.0]). Find floor, ceiling\n",
        "and truncated value, rounded values"
      ],
      "metadata": {
        "id": "LzokRo8H6Qwt"
      }
    },
    {
      "cell_type": "code",
      "source": [
        "import numpy as np\n",
        "a = np.array([-1.8, -1.6, -0.5, 0.5,1.6, 1.8, 3.0])\n",
        "\n",
        "print(f\"Floor value = {np.floor(a)}\")\n",
        "print(f\"Ceiling values = {np.ceil(a)}\")\n",
        "print(f\"Truncated values = {np.trunc(a)}\")\n",
        "print(f\"Rounded values = {np.rint(a)}\")"
      ],
      "metadata": {
        "colab": {
          "base_uri": "https://localhost:8080/"
        },
        "id": "LrLex9sS6U_A",
        "outputId": "bf601437-1a81-408c-d764-179b5275e794"
      },
      "execution_count": null,
      "outputs": [
        {
          "output_type": "stream",
          "name": "stdout",
          "text": [
            "Floor value = [-2. -2. -1.  0.  1.  1.  3.]\n",
            "Ceiling values = [-1. -1. -0.  1.  2.  2.  3.]\n",
            "Truncated values = [-1. -1. -0.  0.  1.  1.  3.]\n",
            "Rounded values = [-2. -2. -0.  0.  2.  2.  3.]\n"
          ]
        }
      ]
    },
    {
      "cell_type": "markdown",
      "source": [
        "**Q3.** (a) For the array: array = np.array([10, 52, 62, 16, 16, 54, 453]), find\n",
        "\n",
        "i. Sorted array\n",
        "\n",
        "ii. Indices of sorted array\n",
        "\n",
        "iii. 4 smallest elements\n",
        "\n",
        "iv. 5 largest elements"
      ],
      "metadata": {
        "id": "rXzf5aI97UE4"
      }
    },
    {
      "cell_type": "code",
      "source": [
        "import numpy as np\n",
        "array = np.array([10, 52, 62, 16, 16,54, 453])"
      ],
      "metadata": {
        "id": "aDiAr5KB7dHV"
      },
      "execution_count": null,
      "outputs": []
    },
    {
      "cell_type": "code",
      "source": [
        "array1 = np.sort(array)\n",
        "print(f\"Sorted array = {array1}\")"
      ],
      "metadata": {
        "colab": {
          "base_uri": "https://localhost:8080/"
        },
        "id": "m6KgNVDu7m35",
        "outputId": "b959ea05-5483-46c2-ea2b-13d6a511dd88"
      },
      "execution_count": null,
      "outputs": [
        {
          "output_type": "stream",
          "name": "stdout",
          "text": [
            "Sorted array = [ 10  16  16  52  54  62 453]\n"
          ]
        }
      ]
    },
    {
      "cell_type": "code",
      "source": [
        "print(f\"Indices of sorted array = {np.argsort(array)}\")"
      ],
      "metadata": {
        "colab": {
          "base_uri": "https://localhost:8080/"
        },
        "id": "85r2B72Q8Ae2",
        "outputId": "84c18146-f236-4f03-8cdc-170a87b46927"
      },
      "execution_count": null,
      "outputs": [
        {
          "output_type": "stream",
          "name": "stdout",
          "text": [
            "Indices of sorted array = [0 3 4 1 5 2 6]\n"
          ]
        }
      ]
    },
    {
      "cell_type": "code",
      "source": [
        "print(f\"4 smallest elements = {array1[:4]}\")"
      ],
      "metadata": {
        "colab": {
          "base_uri": "https://localhost:8080/"
        },
        "id": "8Adt595e8PU9",
        "outputId": "4c6964bb-9cf2-4bc3-cb95-03030bb6a533"
      },
      "execution_count": null,
      "outputs": [
        {
          "output_type": "stream",
          "name": "stdout",
          "text": [
            "4 smallest elements = [10 16 16 52]\n"
          ]
        }
      ]
    },
    {
      "cell_type": "code",
      "source": [
        "print(f\"5 largest elements = {array1[-1:-6:-1]}\")"
      ],
      "metadata": {
        "colab": {
          "base_uri": "https://localhost:8080/"
        },
        "id": "UWpkTDYi8a3c",
        "outputId": "b84adabf-13c9-4957-8ea0-ac17b75688a0"
      },
      "execution_count": null,
      "outputs": [
        {
          "output_type": "stream",
          "name": "stdout",
          "text": [
            "5 largest elements = [ 16  52  54  62 453]\n"
          ]
        }
      ]
    },
    {
      "cell_type": "markdown",
      "source": [
        "**Q3.** (b) For the array: array = np.array([1.0, 1.2, 2.2, 2.0, 3.0, 2.0]), find\n",
        "\n",
        "i. Integer elements only\n",
        "\n",
        "ii. Float elements only"
      ],
      "metadata": {
        "id": "d-bm1jYe87wF"
      }
    },
    {
      "cell_type": "code",
      "source": [
        "import numpy as np\n",
        "array = np.array([1.0, 1.2, 2.2, 2.0, 3.0, 2.0])"
      ],
      "metadata": {
        "id": "T5INBXH19DuY"
      },
      "execution_count": null,
      "outputs": []
    },
    {
      "cell_type": "code",
      "source": [
        "int_only_arr = array[array == array.astype(int)]\n",
        "print(int_only_arr)"
      ],
      "metadata": {
        "id": "2r58xHE29jab"
      },
      "execution_count": null,
      "outputs": []
    },
    {
      "cell_type": "code",
      "source": [
        "int_only_arr = array[array != array.astype(int)]\n",
        "print(int_only_arr)"
      ],
      "metadata": {
        "id": "0kcwOyVS94x_"
      },
      "execution_count": null,
      "outputs": []
    },
    {
      "cell_type": "markdown",
      "source": [
        "**Q4.** (a) Write a function named img_to_array(path) that reads an image from a specified path and\n",
        "save it as text file on local machine? (Note: use separate cases for RGB and Grey Scale\n",
        "images)\n",
        "\n",
        "(b) Load the saved file into jupyter notebook?"
      ],
      "metadata": {
        "id": "reVrEXhD-Amx"
      }
    },
    {
      "cell_type": "code",
      "source": [
        "!sudo apt install tesseract-ocr\n",
        "!pip install pytesseract\n",
        "!pip install Pillow==9.0.0\n",
        "!pip install gTTS"
      ],
      "metadata": {
        "id": "oXlVtYz0-Gtt"
      },
      "execution_count": null,
      "outputs": []
    },
    {
      "cell_type": "code",
      "source": [
        "import pytesseract\n",
        "from PIL import Image\n",
        "import pygame\n",
        "import gtts"
      ],
      "metadata": {
        "colab": {
          "base_uri": "https://localhost:8080/"
        },
        "id": "wChDnazO_Um2",
        "outputId": "1c9c32b8-a1c4-4f39-e2fe-c159af9fe137"
      },
      "execution_count": null,
      "outputs": [
        {
          "output_type": "stream",
          "name": "stdout",
          "text": [
            "pygame 2.5.0 (SDL 2.28.0, Python 3.10.12)\n",
            "Hello from the pygame community. https://www.pygame.org/contribute.html\n"
          ]
        }
      ]
    },
    {
      "cell_type": "code",
      "source": [
        "def img_to_array(path):\n",
        "  result = pytesseract.image_to_string(Image.open(path))\n",
        "  f = open(\"file.txt\",\"w\")\n",
        "  f.write(result)\n",
        "  f.close()\n"
      ],
      "metadata": {
        "id": "gNPxbj22_asO"
      },
      "execution_count": null,
      "outputs": []
    },
    {
      "cell_type": "code",
      "source": [
        "path = '/content/img.png'\n",
        "img_to_array(path)"
      ],
      "metadata": {
        "id": "RgINUiqLAAaJ"
      },
      "execution_count": null,
      "outputs": []
    },
    {
      "cell_type": "code",
      "source": [
        "f = open(\"file.txt\",\"r\")"
      ],
      "metadata": {
        "id": "umuCOr5KAcyT"
      },
      "execution_count": null,
      "outputs": []
    }
  ]
}